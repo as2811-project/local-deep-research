{
 "cells": [
  {
   "cell_type": "code",
   "id": "initial_id",
   "metadata": {
    "collapsed": true,
    "ExecuteTime": {
     "end_time": "2025-02-05T04:52:04.822499Z",
     "start_time": "2025-02-05T04:52:04.755456Z"
    }
   },
   "source": [
    "import os\n",
    "import requests\n",
    "from dotenv import load_dotenv\n",
    "load_dotenv()\n",
    "\n",
    "SERP_API_KEY = os.getenv(\"SERP_API_KEY\")"
   ],
   "outputs": [],
   "execution_count": 2
  },
  {
   "metadata": {},
   "cell_type": "code",
   "outputs": [],
   "execution_count": null,
   "source": [
    "def fetch_serp(q: str):\n",
    "   url = 'https://serpapi.com/search'\n",
    "   params = {\n",
    "        'api_key': SERP_API_KEY,\n",
    "        'engine': 'google',\n",
    "        'q': q,\n",
    "        'google_domain': 'google.com',\n",
    "        'hl': 'en'\n",
    "    }\n",
    "   response = requests.get(url, params=params)\n",
    "   if response.status_code == 200:\n",
    "        json_response = response.json()\n",
    "        organic = json_response['organic_results']\n",
    "        formatted_results = []\n",
    "        for result in organic:\n",
    "            title = result['title']\n",
    "            link = result['link']\n",
    "            description = result['snippet']\n",
    "            resource_object = {\n",
    "                'title': title,\n",
    "                'link': link,\n",
    "                'description': description\n",
    "            }\n",
    "            formatted_results.append(resource_object)\n",
    "        return formatted_results"
   ],
   "id": "8ef73e31991c777e"
  }
 ],
 "metadata": {
  "kernelspec": {
   "display_name": "Python 3",
   "language": "python",
   "name": "python3"
  },
  "language_info": {
   "codemirror_mode": {
    "name": "ipython",
    "version": 2
   },
   "file_extension": ".py",
   "mimetype": "text/x-python",
   "name": "python",
   "nbconvert_exporter": "python",
   "pygments_lexer": "ipython2",
   "version": "2.7.6"
  }
 },
 "nbformat": 4,
 "nbformat_minor": 5
}

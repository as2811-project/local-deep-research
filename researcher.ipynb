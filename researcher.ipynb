{
 "cells": [
  {
   "cell_type": "code",
   "id": "initial_id",
   "metadata": {
    "collapsed": true,
    "ExecuteTime": {
     "end_time": "2025-02-06T08:07:47.493333Z",
     "start_time": "2025-02-06T08:07:47.488046Z"
    }
   },
   "source": [
    "import os\n",
    "import requests\n",
    "from ollama import chat\n",
    "from ollama import ChatResponse\n",
    "from firecrawl import FirecrawlApp\n",
    "from pydantic import BaseModel\n",
    "from typing import Optional\n",
    "from dotenv import load_dotenv\n",
    "from IPython.display import display, Markdown\n",
    "from requests.exceptions import HTTPError\n",
    "load_dotenv()\n",
    "\n",
    "SERP_API_KEY = os.getenv(\"SERP_API_KEY\")\n",
    "FIRECRAWL_API_KEY = os.getenv(\"FIRECRAWL_API_KEY\")\n",
    "MODEL = os.getenv(\"MODEL\")"
   ],
   "outputs": [],
   "execution_count": 5
  },
  {
   "cell_type": "code",
   "id": "8ef73e31991c777e",
   "metadata": {
    "ExecuteTime": {
     "end_time": "2025-02-06T08:07:47.501387Z",
     "start_time": "2025-02-06T08:07:47.498213Z"
    }
   },
   "source": [
    "def fetch_serp(q: str):\n",
    "   url = 'https://serpapi.com/search'\n",
    "   params = {\n",
    "        'api_key': SERP_API_KEY,\n",
    "        'engine': 'google',\n",
    "        'q': q,\n",
    "        'google_domain': 'google.com',\n",
    "        'hl': 'en'\n",
    "    }\n",
    "   response = requests.get(url, params=params)\n",
    "   if response.status_code == 200:\n",
    "        json_response = response.json()\n",
    "        organic = json_response['organic_results']\n",
    "        formatted_results = []\n",
    "        for result in organic:\n",
    "            title = result['title']\n",
    "            link = result['link']\n",
    "            description = result['snippet']\n",
    "            resource_object = {\n",
    "                'title': title,\n",
    "                'link': link,\n",
    "                'description': description\n",
    "            }\n",
    "            formatted_results.append(resource_object)\n",
    "        return formatted_results"
   ],
   "outputs": [],
   "execution_count": 6
  },
  {
   "cell_type": "code",
   "id": "bd13d6486c3dde46",
   "metadata": {
    "ExecuteTime": {
     "end_time": "2025-02-06T08:07:47.509243Z",
     "start_time": "2025-02-06T08:07:47.507272Z"
    }
   },
   "source": [
    "app = FirecrawlApp(api_key=FIRECRAWL_API_KEY)\n",
    "def retrieve_context(url:str):\n",
    "    context = app.scrape_url(url, params={'formats':['markdown']})\n",
    "    return context"
   ],
   "outputs": [],
   "execution_count": 7
  },
  {
   "cell_type": "code",
   "id": "eda827302a568052",
   "metadata": {
    "ExecuteTime": {
     "end_time": "2025-02-06T08:08:35.621888Z",
     "start_time": "2025-02-06T08:07:47.514266Z"
    }
   },
   "source": [
    "class SearchQueries(BaseModel):\n",
    "    queries: list[str] \n",
    "\n",
    "user_prompt = input(\"Topic of Research: \")\n",
    "research_objective = input(\"Research objective: \")\n",
    "research_width = input(\"Width of Research (1-5): \")\n",
    "\n",
    "def generate_queries(prompt:str, objective:str, width:str):\n",
    "    generated_queries: ChatResponse = chat(model=MODEL, messages=[\n",
    "    {\n",
    "        'role': 'user',\n",
    "        'content': f\"Given the user's prompt, generate {width} search queries (to be used as Google Search queries) that will get you started with performing deep research on the topic in hand. It is important that the queries you generate are unique and have ZERO overlap with each other. The number of search queries you are asked to generate defines the width of the user's research. Do not generate anything else apart from the {width} queries required. Here's the user's research title:{prompt}. And here's the research objective: {objective}. Your thought process while generating these queries should consider the main objective of the research, and you should figure out how to progressively.\",\n",
    "    },\n",
    "    ],\n",
    "    format=SearchQueries.model_json_schema())\n",
    "    formatted_queries = SearchQueries.model_validate_json(generated_queries.message.content)\n",
    "    return formatted_queries"
   ],
   "outputs": [],
   "execution_count": 8
  },
  {
   "cell_type": "code",
   "id": "3ff877aef6002318",
   "metadata": {
    "ExecuteTime": {
     "end_time": "2025-02-06T08:08:52.556728Z",
     "start_time": "2025-02-06T08:08:35.645129Z"
    }
   },
   "source": [
    "search_results = []\n",
    "current_queries = generate_queries(user_prompt, research_objective, research_width)\n",
    "for q in current_queries.queries:\n",
    "    # Iteratively fetch Google Search results for each generated search query\n",
    "    results = fetch_serp(q)\n",
    "    search_results.extend(results)"
   ],
   "outputs": [],
   "execution_count": 9
  },
  {
   "cell_type": "code",
   "id": "60f268bfc62d2848",
   "metadata": {
    "ExecuteTime": {
     "end_time": "2025-02-06T08:08:52.612178Z",
     "start_time": "2025-02-06T08:08:52.601131Z"
    }
   },
   "source": [
    "class ResultItem(BaseModel):\n",
    "    title: str\n",
    "    link: str\n",
    "\n",
    "class RelevantQueries(BaseModel):\n",
    "    r_queries: list[ResultItem]\n",
    "\n",
    "references = []\n",
    "\n",
    "def evaluate_relevance(prompt:str, objective:str, width:int, serp_results):\n",
    "    \"\"\"This function evaluates the relevance of each search result. This is to narrow down the research to align with the user's prompt and research objective.\n",
    "    Returns:\n",
    "        Search results marked as relevant by the model (list[str])\n",
    "        References (list[str])\n",
    "    \"\"\"\n",
    "    relevant_queries: ChatResponse = chat(model=MODEL, messages=[\n",
    "        {\n",
    "            'role': 'user',\n",
    "            'content': f\"You are an expert data extractor. You are provided with a list of search results for a specific research query. This will be a list of objects containing the title, description and the link to an article/webpage. Use the title and description to verify if a particular search result is indeed relevant to the query. Return the titles AND links that are relevant to the research objective in the specified format. Here is the list of search results: {serp_results}. Here's the user's topic of research: {prompt}. The objective of the research is as follows: {objective}. You must return {width} results from the list that has been provided to you\"\n",
    "        }\n",
    "    ],format=RelevantQueries.model_json_schema())\n",
    "    formatted_relevant_queries = RelevantQueries.model_validate_json(relevant_queries.message.content)\n",
    "    references.extend(formatted_relevant_queries.r_queries)\n",
    "    return formatted_relevant_queries, references"
   ],
   "outputs": [],
   "execution_count": 10
  },
  {
   "cell_type": "code",
   "id": "8a7990094ad685b4",
   "metadata": {
    "ExecuteTime": {
     "end_time": "2025-02-06T08:09:30.190939Z",
     "start_time": "2025-02-06T08:08:52.623209Z"
    }
   },
   "source": [
    "research_context = []\n",
    "evaluated_queries, _ = evaluate_relevance(user_prompt, research_objective, research_width, search_results)"
   ],
   "outputs": [],
   "execution_count": 11
  },
  {
   "metadata": {
    "ExecuteTime": {
     "end_time": "2025-02-06T08:09:43.518057Z",
     "start_time": "2025-02-06T08:09:30.223224Z"
    }
   },
   "cell_type": "code",
   "source": [
    "for item in evaluated_queries.r_queries:\n",
    "    # For each query deemed to be relevant, we hit the firecrawl API to scrape the contents of the website linked in the search result\n",
    "    # TODO: Rename variables to ensure better readability\n",
    "    print(f\"Retrieving research context for the resource: {item.title}\")\n",
    "    try:\n",
    "        c = retrieve_context(item.link)\n",
    "        research_context.append(c.get(\"markdown\", \"\"))\n",
    "    except HTTPError as e:\n",
    "        print(f\"Failed to retrieve content from {item.title}: {str(e)}\")\n",
    "        references.remove(item)\n",
    "        continue  # Skip to the next URL\n",
    "    except Exception as e:\n",
    "        print(f\"Unexpected error while processing {item.title}: {str(e)}\")\n",
    "        continue  # Skip any other unexpected errors"
   ],
   "id": "7d016b8ff5f43b13",
   "outputs": [
    {
     "name": "stdout",
     "output_type": "stream",
     "text": [
      "Retrieving research context for the resource: Tesla Faces a Sales Storm as Consumer Shifts Drive Stock Downward\n",
      "Retrieving research context for the resource: Tesla's Sales Drop 12% in California, But Remains a Dominant Force\n",
      "Retrieving research context for the resource: The Global Electric Vehicle Market In 2024\n"
     ]
    }
   ],
   "execution_count": 12
  },
  {
   "cell_type": "code",
   "id": "6d560b61fb30b428",
   "metadata": {
    "ExecuteTime": {
     "end_time": "2025-02-06T08:09:43.544451Z",
     "start_time": "2025-02-06T08:09:43.531806Z"
    }
   },
   "source": [
    "class ContextEval(BaseModel):\n",
    "    further_research: bool\n",
    "    probing_queries: Optional[SearchQueries]\n",
    "\n",
    "def evaluate_context(prompt: str, objective: str, context: list[str], width: int) -> tuple[bool, Optional[list[str]]]:\n",
    "    \"\"\"This function uses the language model to evaluate whether further research is needed based on the current context.\n",
    "    Returns:\n",
    "        Boolean (True or False)\n",
    "        List of probing questions (Optional)\n",
    "    \"\"\"\n",
    "    research_status: ChatResponse = chat(model=MODEL, messages=[\n",
    "        {\n",
    "            'role': 'user',\n",
    "            'content': f\"\"\"\n",
    "            You are an expert analyst. You are provided with information regarding the user's topic of research, which is: {prompt}.\n",
    "            The objective of this research is: {objective}.\n",
    "            The research context we have until now is here: {context}.\n",
    "            Based on the given information, confirm if further research is required.\n",
    "            However, if you think more information is required for a comprehensive report, generate {width} more probing questions\n",
    "            that go deeper into the topic, but make sure the queries are specific and precise to the current context as they will be used\n",
    "            to fetch Google search results, which in turn will be used for further research.\n",
    "            \"\"\"\n",
    "        }\n",
    "    ], format=ContextEval.model_json_schema())\n",
    "    \n",
    "    context_eval = ContextEval.model_validate_json(research_status.message.content)\n",
    "    return context_eval.further_research, context_eval.probing_queries"
   ],
   "outputs": [],
   "execution_count": 13
  },
  {
   "cell_type": "code",
   "id": "e64b9500562985a5",
   "metadata": {
    "ExecuteTime": {
     "end_time": "2025-02-06T08:09:43.556950Z",
     "start_time": "2025-02-06T08:09:43.551702Z"
    }
   },
   "source": [
    "def research_loop(prompt: str, objective: str, context: list[str], width: int) -> list[str]:\n",
    "    \"\"\"Manages the iterative research process to refine the research context. This function evaluates the existing research context initially and iterates\n",
    "    a maximum of two times to generate clarifying/additional research questions if deemed necessary by the model. The max_iterations is set to 2 to avoid\n",
    "    topping out your free API limits with Firecrawl and Serp. This can be altered if you plan on using your own web scraping solution.\n",
    "    \n",
    "    Returns:\n",
    "        Updated context (list[str]) which will be used to generate the final report\n",
    "    \"\"\"\n",
    "    max_iterations = 2  # Prevent infinite loops\n",
    "    iteration_count = 0\n",
    "    current_context = context.copy()\n",
    "    \n",
    "    while iteration_count < max_iterations:\n",
    "        further_research, probing_queries = evaluate_context(prompt, objective, current_context, width)\n",
    "        \n",
    "        if not further_research:\n",
    "            break\n",
    "        \n",
    "        iteration_count += 1\n",
    "        new_search_results = []\n",
    "        \n",
    "        if probing_queries:  \n",
    "            for q in probing_queries.queries:  \n",
    "                new_search_results.extend(fetch_serp(q))\n",
    "                \n",
    "            current_evaluated_queries, refs = evaluate_relevance(prompt, objective, width, new_search_results)\n",
    "            \n",
    "            for _ in current_evaluated_queries.r_queries:\n",
    "                print(f\"Retrieving research context for the resource: {_.title}\")\n",
    "                try:\n",
    "                    new_context = retrieve_context(_.link)\n",
    "                    references.extend(_)\n",
    "                    current_context.append(new_context.get(\"markdown\", \"\"))\n",
    "                except HTTPError as e:\n",
    "                    print(f\"Failed to retrieve content from {_.title}: {str(e)}\")\n",
    "                    references.remove(_)\n",
    "                    print(f\"Removed '{_}' from references\")\n",
    "                    continue\n",
    "                except Exception as e:\n",
    "                    print(f\"Unexpected error while processing {_.title}: {str(e)}\")\n",
    "                    continue\n",
    "    \n",
    "    if iteration_count >= max_iterations:\n",
    "        print(\"Max iterations reached. Proceeding with the available research context.\")\n",
    "    \n",
    "    return current_context"
   ],
   "outputs": [],
   "execution_count": 14
  },
  {
   "cell_type": "code",
   "id": "318cfb824a9cdc97",
   "metadata": {
    "ExecuteTime": {
     "end_time": "2025-02-06T08:09:43.565633Z",
     "start_time": "2025-02-06T08:09:43.562637Z"
    }
   },
   "source": [
    "def generate_report(prompt:str, objective:str, width: int, sources: list[str]) -> str:\n",
    "    final_context = research_loop(prompt, objective, research_context, width)\n",
    "    final_report: ChatResponse = chat(model=MODEL, messages=[\n",
    "        {\n",
    "            'role': 'user',\n",
    "            'content':f\"\"\"You are an expert analyst. Your job is to use the provided research prompt, objective and context to generate a clear and comprehensive report.\n",
    "            Research Prompt: {prompt}\n",
    "            Research Objective: {objective}\n",
    "            Research Context: {final_context}\n",
    "            With this information, generate a detailed (700 words) report as instructed. Be sure to include all sources, persons, objects etc in the report. You MUST include a references section and appropriately add citations, the references are here: {sources}. The report must be in markdown format. You are allowed to take liberties with section titles and in-report formatting. Ensure that the report itself adheres to the user's requirements and does not deviate away from the research's goals. You MUST remain aligned to the research title and objective, even if the context provided contains information that may cover aspects other than the ones mentioned by the user. Use the research title provided by the user for the report's title and follow the instructions as mentioned above.\"\"\"\n",
    "        }\n",
    "    ])\n",
    "    return final_report.message.content"
   ],
   "outputs": [],
   "execution_count": 15
  },
  {
   "cell_type": "code",
   "id": "99d9dde727a4c720",
   "metadata": {
    "ExecuteTime": {
     "end_time": "2025-02-06T08:11:55.818266Z",
     "start_time": "2025-02-06T08:09:43.570891Z"
    }
   },
   "source": "report = generate_report(user_prompt,research_objective, research_width, references)",
   "outputs": [],
   "execution_count": 16
  },
  {
   "metadata": {
    "ExecuteTime": {
     "end_time": "2025-02-06T08:11:55.867012Z",
     "start_time": "2025-02-06T08:11:55.860805Z"
    }
   },
   "cell_type": "code",
   "source": "display(Markdown(report))",
   "id": "ad4e1b6d8e684234",
   "outputs": [
    {
     "data": {
      "text/plain": [
       "<IPython.core.display.Markdown object>"
      ],
      "text/markdown": "# Report: Global Electric Vehicle Market Dynamics in 2024\n\n## Introduction\n\nThe global electric vehicle (EV) market is undergoing significant transformations as consumer preferences shift, technological advancements occur, and regulatory frameworks evolve. This report explores key developments within this landscape in 2024, focusing on market dynamics, corporate strategies, and emerging trends that are influencing the EV sector.\n\n## Market Trends and Consumer Preferences\n\nIn recent years, there has been a notable shift in consumer behavior towards electric vehicles, driven by environmental concerns, advancements in technology, and supportive government policies. However, despite this positive trajectory, certain challenges remain that impact sales performance across key markets.\n\n### Tesla's Sales Performance\n\nTesla, a dominant player in the EV market, is experiencing fluctuations in its sales figures. According to recent reports, Tesla faced a significant sales downturn as consumer preferences began shifting away from traditional luxury brands towards more affordable and diverse options ([Tesla Faces a Sales Storm](https://www.ainvest.com/news/tesla-faces-a-sales-storm-as-consumer-shifts-drive-stock-downward-2502101085381cb03a209ffe/)). In California, Tesla’s sales dropped by 12% in recent months, although the brand continues to hold a substantial market share ([Tesla's Sales Drop](https://opentools.ai/news/teslas-sales-drop-12percent-in-california-but-remains-a-dominant-force)).\n\n## Corporate Strategies and Innovations\n\nAmidst competitive pressures, companies within the EV sector are actively innovating and adapting their strategies to capture market opportunities. Key areas of focus include enhancing charging infrastructure, improving battery technology, and expanding product offerings to cater to diverse consumer needs.\n\n### Investment in Charging Infrastructure\n\nThe demand for reliable and accessible EV charging networks is on the rise. Companies like Virta Global emphasize the importance of investing in charging operations as a pivotal strategy to support market growth. By facilitating easy access to charging facilities, businesses can drive adoption rates and ensure customer satisfaction ([Virta Global](https://www.virta.global/global-electric-vehicle-market)).\n\n### Technological Advancements\n\nTechnological innovation remains central to the EV industry's evolution. Enhanced battery technologies that offer longer ranges and faster charging times are becoming critical competitive differentiators. Additionally, advancements in vehicle connectivity and autonomous driving features are attracting tech-savvy consumers looking for cutting-edge mobility solutions.\n\n## Regulatory Influences\n\nRegulatory frameworks play a significant role in shaping the electric vehicle market. Governments worldwide are implementing policies to encourage EV adoption, such as subsidies, tax incentives, and mandates for zero-emission vehicles (ZEVs).\n\n### The UK ZEV Mandate\n\nThe United Kingdom has introduced the Zero Emission Vehicle mandate, designed to accelerate the transition towards sustainable transportation. This regulatory measure is expected to have a favorable impact on businesses involved in EV manufacturing and infrastructure development by driving demand for electric models ([UK ZEV Mandate](https://www.virta.global/blog/what-is-the-uk-zev-mandate)).\n\n## Emerging Market Opportunities\n\nAs the market matures, new opportunities are emerging across various segments. These include expanding into underserved markets, developing alternative energy solutions, and exploring partnerships with tech firms to integrate smart features into EV offerings.\n\n### Strategic Partnerships\n\nStrategic collaborations between automotive manufacturers and technology companies can lead to innovations in vehicle design, functionality, and user experience. Such partnerships may enhance the appeal of electric vehicles by offering integrated digital services, such as seamless connectivity and advanced driver-assistance systems.\n\n## Conclusion\n\nThe global electric vehicle market is poised for continued growth despite current challenges. Companies that strategically invest in infrastructure, embrace technological advancements, and align with regulatory trends will likely secure a competitive advantage. As consumer preferences evolve, the industry's ability to adapt will determine its success in meeting future demands.\n\n## References\n\n- [Tesla Faces a Sales Storm as Consumer Shifts Drive Stock Downward](https://www.ainvest.com/news/tesla-faces-a-sales-storm-as-consumer-shifts-drive-stock-downward-2502101085381cb03a209ffe/)\n- [Tesla's Sales Drop 12% in California, But Remains a Dominant Force](https://opentools.ai/news/teslas-sales-drop-12percent-in-california-but-remains-a-dominant-force)\n- [The Global Electric Vehicle Market In 2024](https://www.virta.global/global-electric-vehicle-market)\n\nThis report highlights key dynamics within the global electric vehicle market in 2024, emphasizing the critical areas of consumer trends, corporate strategies, regulatory influences, and emerging opportunities. By understanding these elements, stakeholders can better navigate the evolving landscape of electric mobility."
     },
     "metadata": {},
     "output_type": "display_data"
    }
   ],
   "execution_count": 17
  },
  {
   "metadata": {
    "ExecuteTime": {
     "end_time": "2025-02-06T08:11:55.959932Z",
     "start_time": "2025-02-06T08:11:55.956189Z"
    }
   },
   "cell_type": "code",
   "source": [
    "with open('research_report.md', 'w', encoding='utf-8') as f:\n",
    "    f.write(report)"
   ],
   "id": "5ada9fe1494205b0",
   "outputs": [],
   "execution_count": 18
  }
 ],
 "metadata": {
  "kernelspec": {
   "display_name": "Python 3",
   "language": "python",
   "name": "python3"
  },
  "language_info": {
   "codemirror_mode": {
    "name": "ipython",
    "version": 2
   },
   "file_extension": ".py",
   "mimetype": "text/x-python",
   "name": "python",
   "nbconvert_exporter": "python",
   "pygments_lexer": "ipython2",
   "version": "2.7.6"
  }
 },
 "nbformat": 4,
 "nbformat_minor": 5
}

{
 "cells": [
  {
   "cell_type": "code",
   "id": "initial_id",
   "metadata": {
    "collapsed": true,
    "ExecuteTime": {
     "end_time": "2025-02-06T07:03:48.225260Z",
     "start_time": "2025-02-06T07:03:48.220565Z"
    }
   },
   "source": [
    "import os\n",
    "import requests\n",
    "from ollama import chat\n",
    "from ollama import ChatResponse\n",
    "from firecrawl import FirecrawlApp\n",
    "from pydantic import BaseModel\n",
    "from typing import Optional\n",
    "from dotenv import load_dotenv\n",
    "from IPython.display import display, Markdown\n",
    "from requests.exceptions import HTTPError\n",
    "load_dotenv()\n",
    "\n",
    "SERP_API_KEY = os.getenv(\"SERP_API_KEY\")\n",
    "FIRECRAWL_API_KEY = os.getenv(\"FIRECRAWL_API_KEY\")\n",
    "MODEL = os.getenv(\"MODEL\")"
   ],
   "outputs": [],
   "execution_count": 2
  },
  {
   "cell_type": "code",
   "id": "8ef73e31991c777e",
   "metadata": {
    "ExecuteTime": {
     "end_time": "2025-02-06T07:03:48.238349Z",
     "start_time": "2025-02-06T07:03:48.235139Z"
    }
   },
   "source": [
    "def fetch_serp(q: str):\n",
    "   url = 'https://serpapi.com/search'\n",
    "   params = {\n",
    "        'api_key': SERP_API_KEY,\n",
    "        'engine': 'google',\n",
    "        'q': q,\n",
    "        'google_domain': 'google.com',\n",
    "        'hl': 'en'\n",
    "    }\n",
    "   response = requests.get(url, params=params)\n",
    "   if response.status_code == 200:\n",
    "        json_response = response.json()\n",
    "        organic = json_response['organic_results']\n",
    "        formatted_results = []\n",
    "        for result in organic:\n",
    "            title = result['title']\n",
    "            link = result['link']\n",
    "            description = result['snippet']\n",
    "            resource_object = {\n",
    "                'title': title,\n",
    "                'link': link,\n",
    "                'description': description\n",
    "            }\n",
    "            formatted_results.append(resource_object)\n",
    "        return formatted_results"
   ],
   "outputs": [],
   "execution_count": 3
  },
  {
   "cell_type": "code",
   "id": "bd13d6486c3dde46",
   "metadata": {
    "ExecuteTime": {
     "end_time": "2025-02-06T07:03:48.246487Z",
     "start_time": "2025-02-06T07:03:48.244108Z"
    }
   },
   "source": [
    "app = FirecrawlApp(api_key=FIRECRAWL_API_KEY)\n",
    "def retrieve_context(url:str):\n",
    "    context = app.scrape_url(url, params={'formats':['markdown']})\n",
    "    return context"
   ],
   "outputs": [],
   "execution_count": 4
  },
  {
   "cell_type": "code",
   "id": "eda827302a568052",
   "metadata": {
    "ExecuteTime": {
     "end_time": "2025-02-06T07:05:22.533356Z",
     "start_time": "2025-02-06T07:03:48.251607Z"
    }
   },
   "source": [
    "class SearchQueries(BaseModel):\n",
    "    queries: list[str] \n",
    "\n",
    "user_prompt = input(\"Topic of Research: \")\n",
    "research_objective = input(\"Research objective: \")\n",
    "research_width = input(\"Width of Research (1-5): \")\n",
    "\n",
    "def generate_queries(prompt:str, objective:str, width:str):\n",
    "    generated_queries: ChatResponse = chat(model=MODEL, messages=[\n",
    "    {\n",
    "        'role': 'user',\n",
    "        'content': f\"Given the user's prompt, generate {width} search queries (to be used as Google Search queries) that will get you started with performing deep research on the topic in hand. It is important that the queries you generate are unique and have ZERO overlap with each other. The number of search queries you are asked to generate defines the width of the user's research. Do not generate anything else apart from the {width} queries required. Here's the user's research title:{prompt}. And here's the research objective: {objective}. Your thought process while generating these queries should consider the main objective of the research, and you should figure out how to progressively.\",\n",
    "    },\n",
    "    ],\n",
    "    format=SearchQueries.model_json_schema())\n",
    "    formatted_queries = SearchQueries.model_validate_json(generated_queries.message.content)\n",
    "    return formatted_queries"
   ],
   "outputs": [],
   "execution_count": 5
  },
  {
   "cell_type": "code",
   "id": "3ff877aef6002318",
   "metadata": {
    "ExecuteTime": {
     "end_time": "2025-02-06T07:05:33.574548Z",
     "start_time": "2025-02-06T07:05:22.560312Z"
    }
   },
   "source": [
    "search_results = []\n",
    "current_queries = generate_queries(user_prompt, research_objective, research_width)\n",
    "for q in current_queries.queries:\n",
    "    results = fetch_serp(q)\n",
    "    search_results.extend(results)\n",
    "%store search_results\n",
    "print(search_results)"
   ],
   "outputs": [
    {
     "name": "stdout",
     "output_type": "stream",
     "text": [
      "Stored 'search_results' (list)\n",
      "[{'title': 'Major Airlines of Australia/Oceania', 'link': 'https://www.nationsonline.org/oneworld/Airlines/airlines_oceania.htm', 'description': 'List of flag air carriers, domestic airlines, commercial airlines with passenger and cargo service, scheduled air carrier and low cost airlines.'}, {'title': 'List of Australian Airlines', 'link': 'https://www.thinkingaustralia.com/travel-to-australia/australian-airlines/', 'description': 'Australian Airlines · qantas · virgin · jetstar · tiger air · things you need to know · thinking australia? we can help! · We use cookies on Thinking Australia.'}, {'title': 'List of International & Domestic Airlines', 'link': 'https://au.wego.com/airlines', 'description': 'Popular Airlines in Australia ; Qantas \\u200f(QF) ; Etihad Airways \\u200f(EY) ; Jetstar Airways \\u200f(JQ) ; Singapore Airlines \\u200f(SQ) ; Regional Express Airlines \\u200f(ZL).'}, {'title': 'Top Airlines and aviation companies in Australia', 'link': 'https://www.lusha.com/company-search/airlines-and-aviation/a28cb76183/australia/217/', 'description': \"Get access to Lusha's database of business leads from airlines and aviation companies in Australia. 539 companies are listed in our database (showing 1 - 99)\"}, {'title': 'The 30 largest airports and airlines in Australia', 'link': 'https://www.worlddata.info/oceania/australia/airports.php', 'description': 'The largest airlines in Australia include Qantas, Virgin Australia and Jetstar. The national airline, Qantas, is known worldwide for its extensive domestic and ...'}, {'title': 'How many airlines are in Australia?', 'link': 'https://www.quora.com/How-many-airlines-are-in-Australia', 'description': 'Australia has four main domestic airline carriers Qantas Domestic, Virgin Australia, Jetstar, and Rex. Together these Australian airlines ...'}, {'title': 'How many airlines operate in Australia?', 'link': 'https://askwonder.com/research/airlines-operate-australia-vrnz7pb76', 'description': 'How many airlines operate in Australia? · 1. Virgin Australia · 2. Qantas Airways · 3. Air New Zealand · 4. Jetstar Airways. Make better decisions, ...'}, {'title': 'List of Airline Companies Australia', 'link': 'https://bolddata.nl/en/companies/australia/airline-companies-australia/', 'description': 'Top 50 largest Airline Companies in Australia · SINGAPORE AIRLINES LIMITED Sydney · JETSTAR INTERNATIONAL GROUP AUSTRALIA PTY. · JETSTAR SERVICES PTY LIMITED ...'}, {'title': 'Flight bookings by airline brand in Australia 2024 | ...', 'link': 'https://www.statista.com/forecasts/1187987/flight-bookings-by-airline-brand-in-australia', 'description': 'We asked Australian consumers about \"Flight bookings by airline brand\" and found that \"Qantas\" takes the top spot, while \"FlyPelican\" is at ...'}, {'title': 'Domestic airline competition in Australia | May 2024 report', 'link': 'https://www.accc.gov.au/system/files/domestic-airline-competition-in-australia-may-2024-report.pdf', 'description': 'Analysis of domestic airline activity in the first 3 months of 2024 ... This chapter analyses domestic airline competition by the number of routes ...'}, {'title': 'Domestic airline competition report - February 2024', 'link': 'https://www.accc.gov.au/system/files/domestic-airline-competition-report-february2024_0.pdf', 'description': 'For the first time, Australia had 4 different airline groups competing on a single domestic route. Bonza began offering services between the ...'}, {'title': 'Aviation sector under the microscope as ACCC report ...', 'link': 'https://www.abc.net.au/news/2024-11-12/domestic-airline-competition-report-/104589872', 'description': \"The ACCC says Australia's aviation industry has become more concentrated since the collapse of Rex Airlines. Federal senators accused Qantas of hoarding its ...\"}, {'title': 'Domestic Airlines in Australia - Market Research Report ...', 'link': 'https://www.ibisworld.com/australia/industry/domestic-airlines/472/', 'description': 'How competitive is the Domestic Airlines industry in Australia? The level of competition is high and decreasing in the Domestic Airlines industry in Australia.'}, {'title': 'How competition impacts prices: The Australian aviation ...', 'link': 'https://treasury.gov.au/sites/default/files/2024-09/p2024-553588_0.pdf', 'description': 'Using novel data, this paper reports results from the first detailed study examining airline competition in Australia, its evolution and its effects on airfares ...'}, {'title': 'Competitiveness of domestic airlines in Australia', 'link': 'https://www.anzam.org/wp-content/uploads/2018/02/ANZAM-2017-357.pdf', 'description': 'In order to achieve competitiveness, there is a strong need of research focusing on the demand side of competition in the context of domestic airlines. This ...'}, {'title': 'Domestic airline competition in Australia', 'link': 'https://apo.org.au/node/328978', 'description': 'Domestic airline passengers face less choice and higher airfares due to significantly reduced competition. Focusing on the impact of recent ...'}, {'title': 'A competitive and efficient aviation sector', 'link': 'https://www.infrastructure.gov.au/sites/default/files/documents/awp-factsheet-a-competitive-and-efficient-aviation-sector.pdf', 'description': 'Effective competition helps to ensure affordable airfares and suitable services are delivered for consumers. Our reforms will boost competition and enable ...'}, {'title': 'Australia Airlines Market Summary, Competitive Analysis ...', 'link': 'https://www.researchandmarkets.com/reports/5714896/australia-airlines-market-summary-competitive?srsltid=AfmBOorYmOgbROjIQo6dslwYqqCJd8z0R7q_sHYFsNVcscf2ufQWSQFa', 'description': 'The Australian airline industry had total revenues of $8.8 billion in 2022, representing a negative compound annual growth rate (CAGR) of 12.8% between 2017 and ...'}, {'title': 'An analysis of price competition and price wars in ...', 'link': 'https://www.sciencedirect.com/science/article/abs/pii/S0967070X18302154', 'description': 'This paper examines the determinants of price wars in Australia using monthly data from 72 airline routes for the period from January 2013 to August 2017.'}, {'title': 'Airservices Travel Sentiment Index 2023: From ...', 'link': 'https://www.airservicesaustralia.com/wp-content/uploads/Airservices_ebook_From-locked-down-to-sky-high_v2_compressed.pdf', 'description': 'The return of international and domestic air travel is a significant feature of a world emerging from the pandemic. But what of the future?'}, {'title': 'Airservices: Flying critical to wellbeing of a third of Australians', 'link': 'https://engage.airservicesaustralia.com/travelling-forward', 'description': 'More than one in three Australians view flying as critical to their wellbeing, the first national survey of air travel consumer sentiment by industry safety ...'}, {'title': \"Qantas' brand health plummets; Virgin Australia sees gains ...\", 'link': 'https://www.corporatetravelcommunity.com/qantas-brand-health-plummets-virgin-australia-sees-gains-in-consumer-sentiment/', 'description': 'A new study from research specialist YouGov shows that consumer sentiment towards the airline has soured sharply as news of its recent alleged misconduct ...'}, {'title': 'Domestic airline competition in Australia', 'link': 'https://www.accc.gov.au/system/files/domestic-airline-competition-australia-november2024.pdf', 'description': 'The recent reduction in competition, particularly on domestic routes that carry a majority of passengers (59.6% in September 2024), raises ...'}, {'title': 'Insights on Australian travel behaviours', 'link': 'https://www.thinkwithgoogle.com/intl/en-apac/consumer-insights/consumer-trends/insights-aunz-traveler-behaviors/', 'description': 'How common is it for Australian travellers to change their minds about their holiday destination, accommodation, or flight? More than you might imagine.'}, {'title': 'Australia Airlines Market Outlook to 2028 - Aviation', 'link': 'https://www.kenresearch.com/industry-reports/australia-airlines-market', 'description': 'Australian consumers are increasingly price-sensitive, with recent surveys showing a 25% increase in preference for LCCs due to affordability and value-driven ...'}, {'title': 'International Airlines in Australia - Market Research Report ...', 'link': 'https://www.ibisworld.com/australia/industry/international-airlines/471/', 'description': 'Industry revenue growth is expected to be weak in the current year, at 0.4%, as high interest rates and weak consumer sentiment limit growth in domestic travel ...'}, {'title': 'The Australian Airline Industry in 2024: Key Economic ...', 'link': 'https://www.linkedin.com/pulse/australian-airline-industry-2024-key-economic-social-insights-wijaya-as5oc', 'description': 'The aviation sector in Australia has been integral to the economy, contributing $20 billion annually. The pandemic caused a severe 95% drop in ...'}, {'title': 'Changing Attitudes Towards Air Travel - UQ eSpace', 'link': 'https://espace.library.uq.edu.au/view/UQ:cc3eec7/s4075701_phd_thesis.pdf', 'description': 'This study provides a novel perspective by identifying attitudes towards air travel and attempting to change them by applying three consumer behaviour theories ...'}, {'title': 'Domestic airline competition in Australia | May 2024 report', 'link': 'https://www.accc.gov.au/system/files/domestic-airline-competition-in-australia-may-2024-report.pdf', 'description': 'Airlines are required to meet the consumer guarantees in the Australian Consumer Law when they supply their services, such as the guarantee ...'}]\n"
     ]
    },
    {
     "name": "stderr",
     "output_type": "stream",
     "text": [
      "/Users/sanandh/Desktop/Projects/Deep-Research-Python/venv/lib/python3.12/site-packages/IPython/extensions/storemagic.py:229: UserWarning: This is now an optional IPython functionality, setting autorestore/search_results requires you to install the `pickleshare` library.\n",
      "  db[ 'autorestore/' + arg ] = obj\n"
     ]
    }
   ],
   "execution_count": 6
  },
  {
   "cell_type": "code",
   "id": "60f268bfc62d2848",
   "metadata": {
    "ExecuteTime": {
     "end_time": "2025-02-06T07:05:33.691225Z",
     "start_time": "2025-02-06T07:05:33.685561Z"
    }
   },
   "source": [
    "class ResultItem(BaseModel):\n",
    "    title: str\n",
    "    link: str\n",
    "\n",
    "class RelevantQueries(BaseModel):\n",
    "    r_queries: list[ResultItem]\n",
    "\n",
    "references = []\n",
    "\n",
    "def evaluate_relevance(prompt:str, objective:str, width:int, serp_results):\n",
    "    relevant_queries: ChatResponse = chat(model=MODEL, messages=[\n",
    "        {\n",
    "            'role': 'user',\n",
    "            'content': f\"You are an expert data extractor. You are provided with a list of search results for a specific research query. This will be a list of objects containing the title, description and the link to an article/webpage. Use the title and description to verify if a particular search result is indeed relevant to the query. Return the titles AND links that are relevant to the research objective in the specified format. Here is the list of search results: {serp_results}. Here's the user's topic of research: {prompt}. The objective of the research is as follows: {objective}. You must return {width} results from the list that has been provided to you\"\n",
    "        }\n",
    "    ],format=RelevantQueries.model_json_schema())\n",
    "    formatted_relevant_queries = RelevantQueries.model_validate_json(relevant_queries.message.content)\n",
    "    references.extend(formatted_relevant_queries.r_queries)\n",
    "    return formatted_relevant_queries, references"
   ],
   "outputs": [],
   "execution_count": 7
  },
  {
   "cell_type": "code",
   "id": "8a7990094ad685b4",
   "metadata": {
    "ExecuteTime": {
     "end_time": "2025-02-06T07:06:10.510528Z",
     "start_time": "2025-02-06T07:05:33.780014Z"
    }
   },
   "source": [
    "research_context = []\n",
    "evaluated_queries, _ = evaluate_relevance(user_prompt, research_objective, research_width, search_results)"
   ],
   "outputs": [],
   "execution_count": 8
  },
  {
   "metadata": {
    "ExecuteTime": {
     "end_time": "2025-02-06T07:06:10.546952Z",
     "start_time": "2025-02-06T07:06:10.540423Z"
    }
   },
   "cell_type": "code",
   "source": "evaluated_queries.r_queries",
   "id": "1873e8dd7648e42f",
   "outputs": [
    {
     "data": {
      "text/plain": [
       "[ResultItem(title='Domestic airline competition in Australia | May 2024 report', link='https://www.accc.gov.au/system/files/domestic-airline-competition-in-australia-may-2024-report.pdf'),\n",
       " ResultItem(title='Australia Airlines Market Outlook to 2028 - Aviation', link='https://www.kenresearch.com/industry-reports/australia-airlines-market'),\n",
       " ResultItem(title=\"Qantas' brand health plummets; Virgin Australia sees gains ...\", link='https://www.corporatetravelcommunity.com/qantas-brand-health-plummets-virgin-australia-sees-gains-in-consumer-sentiment/')]"
      ]
     },
     "execution_count": 9,
     "metadata": {},
     "output_type": "execute_result"
    }
   ],
   "execution_count": 9
  },
  {
   "metadata": {
    "ExecuteTime": {
     "end_time": "2025-02-06T07:06:46.720337Z",
     "start_time": "2025-02-06T07:06:10.652232Z"
    }
   },
   "cell_type": "code",
   "source": [
    "for item in evaluated_queries.r_queries:\n",
    "    print(f\"Retrieving research context for the resource: {item.title}\")\n",
    "    try:\n",
    "        c = retrieve_context(item.link)\n",
    "        research_context.append(c.get(\"markdown\", \"\"))\n",
    "    except HTTPError as e:\n",
    "        print(f\"Failed to retrieve content from {item.title}: {str(e)}\")\n",
    "        references.remove(item)\n",
    "        continue  # Skip to the next URL\n",
    "    except Exception as e:\n",
    "        print(f\"Unexpected error while processing {item.title}: {str(e)}\")\n",
    "        continue  # Skip any other unexpected errors\n",
    "\n",
    "%store research_context"
   ],
   "id": "7d016b8ff5f43b13",
   "outputs": [
    {
     "name": "stdout",
     "output_type": "stream",
     "text": [
      "Retrieving research context for the resource: Domestic airline competition in Australia | May 2024 report\n",
      "Retrieving research context for the resource: Australia Airlines Market Outlook to 2028 - Aviation\n",
      "Retrieving research context for the resource: Qantas' brand health plummets; Virgin Australia sees gains ...\n",
      "Stored 'research_context' (list)\n"
     ]
    },
    {
     "name": "stderr",
     "output_type": "stream",
     "text": [
      "/Users/sanandh/Desktop/Projects/Deep-Research-Python/venv/lib/python3.12/site-packages/IPython/extensions/storemagic.py:229: UserWarning: This is now an optional IPython functionality, setting autorestore/research_context requires you to install the `pickleshare` library.\n",
      "  db[ 'autorestore/' + arg ] = obj\n"
     ]
    }
   ],
   "execution_count": 10
  },
  {
   "cell_type": "code",
   "id": "6d560b61fb30b428",
   "metadata": {
    "ExecuteTime": {
     "end_time": "2025-02-06T07:06:46.803753Z",
     "start_time": "2025-02-06T07:06:46.797895Z"
    }
   },
   "source": [
    "class ContextEval(BaseModel):\n",
    "    further_research: bool\n",
    "    probing_queries: Optional[SearchQueries]\n",
    "\n",
    "def evaluate_context(prompt: str, objective: str, context: list[str], width: int) -> tuple[bool, Optional[list[str]]]:\n",
    "    \"\"\"Evaluates whether further research is needed based on the current context.\"\"\"\n",
    "    research_status: ChatResponse = chat(model=MODEL, messages=[\n",
    "        {\n",
    "            'role': 'user',\n",
    "            'content': f\"\"\"\n",
    "            You are an expert analyst. You are provided with information regarding the user's topic of research, which is: {prompt}.\n",
    "            The objective of this research is: {objective}.\n",
    "            The research context we have until now is here: {context}.\n",
    "            Based on the given information, confirm if further research is required.\n",
    "            However, if you think more information is required for a comprehensive report, generate {width} more probing questions\n",
    "            that go deeper into the topic, but make sure the queries are specific and precise to the current context as they will be used\n",
    "            to fetch Google search results, which in turn will be used for further research.\n",
    "            \"\"\"\n",
    "        }\n",
    "    ], format=ContextEval.model_json_schema())\n",
    "    \n",
    "    context_eval = ContextEval.model_validate_json(research_status.message.content)\n",
    "    return context_eval.further_research, context_eval.probing_queries"
   ],
   "outputs": [],
   "execution_count": 11
  },
  {
   "cell_type": "code",
   "id": "e64b9500562985a5",
   "metadata": {
    "ExecuteTime": {
     "end_time": "2025-02-06T07:06:46.819240Z",
     "start_time": "2025-02-06T07:06:46.815795Z"
    }
   },
   "source": [
    "def research_loop(prompt: str, objective: str, context: list[str], width: int) -> list[str]:\n",
    "    \"\"\"Manages the iterative research process to refine the research context.\"\"\"\n",
    "    max_iterations = 2  # Prevent infinite loops\n",
    "    iteration_count = 0\n",
    "    current_context = context.copy()\n",
    "    \n",
    "    while iteration_count < max_iterations:\n",
    "        further_research, probing_queries = evaluate_context(prompt, objective, current_context, width)\n",
    "        \n",
    "        if not further_research:\n",
    "            break\n",
    "        \n",
    "        iteration_count += 1\n",
    "        new_search_results = []\n",
    "        \n",
    "        if probing_queries:  \n",
    "            for q in probing_queries.queries:  \n",
    "                new_search_results.extend(fetch_serp(q))\n",
    "                \n",
    "            current_evaluated_queries, refs = evaluate_relevance(prompt, objective, width, new_search_results)\n",
    "            \n",
    "            for _ in current_evaluated_queries.r_queries:\n",
    "                print(f\"Retrieving research context for the resource: {_.title}\")\n",
    "                try:\n",
    "                    new_context = retrieve_context(_.link)\n",
    "                    references.extend(_)\n",
    "                    current_context.append(new_context.get(\"markdown\", \"\"))\n",
    "                except HTTPError as e:\n",
    "                    print(f\"Failed to retrieve content from {_.title}: {str(e)}\")\n",
    "                    references.remove(_)\n",
    "                    print(f\"Removed '{_}' from references\")\n",
    "                    continue\n",
    "                except Exception as e:\n",
    "                    print(f\"Unexpected error while processing {_.title}: {str(e)}\")\n",
    "                    continue\n",
    "    \n",
    "    if iteration_count >= max_iterations:\n",
    "        print(\"Max iterations reached. Proceeding with the available research context.\")\n",
    "    \n",
    "    return current_context"
   ],
   "outputs": [],
   "execution_count": 12
  },
  {
   "cell_type": "code",
   "id": "318cfb824a9cdc97",
   "metadata": {
    "ExecuteTime": {
     "end_time": "2025-02-06T07:06:46.830898Z",
     "start_time": "2025-02-06T07:06:46.828615Z"
    }
   },
   "source": [
    "def generate_report(prompt:str, objective:str, width: int, sources: list[str]) -> str:\n",
    "    final_context = research_loop(prompt, objective, research_context, width)\n",
    "    final_report: ChatResponse = chat(model=MODEL, messages=[\n",
    "        {\n",
    "            'role': 'user',\n",
    "            'content':f\"\"\"You are an expert analyst. Your job is to use the provided research prompt, objective and context to generate a clear and comprehensive report.\n",
    "            Research Title: {prompt}\n",
    "            Research Objective: {objective}\n",
    "            Research Context: {final_context}\n",
    "            With this information, generate a detailed report as instructed. Be sure to include all sources, persons, objects etc in the report. You MUST include a references section and appropriately add citations, the references are here: {sources}. The report must be in markdown format. You are allowed to take liberties with section titles and in-report formatting. Ensure that the report itself adheres to the user's requirements and does not deviate away from the research's goals. You MUST remain aligned to the research title and objective, even if the context provided contains information that may cover aspects other than the ones mentioned by the user. Use the research title provided by the user for the report's title and follow the instructions as mentioned above.\"\"\"\n",
    "        }\n",
    "    ])\n",
    "    return final_report.message.content"
   ],
   "outputs": [],
   "execution_count": 13
  },
  {
   "cell_type": "code",
   "id": "99d9dde727a4c720",
   "metadata": {
    "ExecuteTime": {
     "end_time": "2025-02-06T07:08:30.475022Z",
     "start_time": "2025-02-06T07:06:46.837693Z"
    }
   },
   "source": "report = generate_report(user_prompt,research_objective, research_width, references)",
   "outputs": [],
   "execution_count": 14
  },
  {
   "metadata": {
    "ExecuteTime": {
     "end_time": "2025-02-06T07:08:30.514682Z",
     "start_time": "2025-02-06T07:08:30.508909Z"
    }
   },
   "cell_type": "code",
   "source": "display(Markdown(report))",
   "id": "ad4e1b6d8e684234",
   "outputs": [
    {
     "data": {
      "text/plain": [
       "<IPython.core.display.Markdown object>"
      ],
      "text/markdown": "# Impact of Recent Events on Consumer Sentiment Towards Qantas and Virgin Australia\n\n## Introduction\n\nThe airline industry in Australia has seen significant shifts in consumer sentiment, particularly between two major players: Qantas and Virgin Australia. This report examines how recent events have impacted the brand health of these airlines, drawing from various sources to provide a comprehensive analysis.\n\n## Analysis of Recent Events\n\n### Decline in Qantas' Brand Health\n\nQantas has experienced a notable decline in brand health due to several key events:\n\n1. **Legal Issues**: The airline faced legal challenges, including being fined for misleading claims about its carbon emissions. This incident raised concerns about transparency and corporate responsibility.\n\n2. **Operational Problems**: Frequent delays and cancellations have plagued Qantas flights, leading to customer dissatisfaction.\n\n3. **Labor Disputes**: Ongoing disputes with pilots over pay and conditions have resulted in industrial action, further tarnishing the airline's image.\n\n4. **Financial Performance**: A reported $1 billion loss exacerbated the negative perception of Qantas among consumers.\n\n### Gains for Virgin Australia\n\nIn contrast, Virgin Australia has seen an improvement in consumer sentiment:\n\n1. **Operational Reliability**: The airline has maintained a reputation for operational reliability and punctuality, enhancing customer satisfaction.\n\n2. **Customer Service**: Positive feedback regarding customer service and transparency has bolstered Virgin's brand image.\n\n3. **Competitive Pricing**: Offering competitive pricing strategies has attracted cost-conscious travelers, contributing to increased market share.\n\n## Comparative Analysis\n\n### Brand Health Metrics\n\nAccording to a report by the Corporate Travel Community, Qantas' brand health has significantly declined, while Virgin Australia has experienced gains in consumer sentiment ([Qantas' brand health plummets; Virgin Australia sees gains...](https://www.corporatetravelcommunity.com/qantas-brand-health-plummets-virgin-australia-sees-gains-in-consumer-sentiment/)).\n\n### Market Competition\n\nThe Australian Competition and Consumer Commission (ACCC) highlights the competitive dynamics between Qantas and Virgin Australia, noting that Virgin's strategic improvements have positioned it as a formidable competitor ([Domestic airline competition in Australia | May 2024 report](https://www.accc.gov.au/system/files/domestic-airline-competition-in-australia-may-2024-report.pdf)).\n\n## Conclusion\n\nThe recent events surrounding Qantas and Virgin Australia illustrate the impact of operational, financial, and reputational factors on consumer sentiment. While Qantas faces challenges in restoring its brand health, Virgin Australia's strategic initiatives have positively influenced its market position. Continued monitoring of these developments will be essential for understanding future trends in the Australian airline industry.\n\n## References\n\n- [Domestic airline competition in Australia | May 2024 report](https://www.accc.gov.au/system/files/domestic-airline-competition-in-australia-may-2024-report.pdf)\n- [Australia Airlines Market Outlook to 2028 - Aviation](https://www.kenresearch.com/industry-reports/australia-airlines-market)\n- [Qantas' brand health plummets; Virgin Australia sees gains ...](https://www.corporatetravelcommunity.com/qantas-brand-health-plummets-virgin-australia-sees-gains-in-consumer-sentiment/)"
     },
     "metadata": {},
     "output_type": "display_data"
    }
   ],
   "execution_count": 15
  },
  {
   "metadata": {
    "ExecuteTime": {
     "end_time": "2025-02-06T07:11:56.833030Z",
     "start_time": "2025-02-06T07:11:56.825545Z"
    }
   },
   "cell_type": "code",
   "source": [
    "with open('research_report.md', 'w', encoding='utf-8') as f:\n",
    "    f.write(report)"
   ],
   "id": "5ada9fe1494205b0",
   "outputs": [],
   "execution_count": 17
  }
 ],
 "metadata": {
  "kernelspec": {
   "display_name": "Python 3",
   "language": "python",
   "name": "python3"
  },
  "language_info": {
   "codemirror_mode": {
    "name": "ipython",
    "version": 2
   },
   "file_extension": ".py",
   "mimetype": "text/x-python",
   "name": "python",
   "nbconvert_exporter": "python",
   "pygments_lexer": "ipython2",
   "version": "2.7.6"
  }
 },
 "nbformat": 4,
 "nbformat_minor": 5
}
